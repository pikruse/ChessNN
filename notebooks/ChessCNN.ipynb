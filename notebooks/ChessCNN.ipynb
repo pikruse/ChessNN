{
 "cells": [
  {
   "cell_type": "code",
   "execution_count": 1,
   "metadata": {},
   "outputs": [],
   "source": [
    "# import packages\n",
    "import os, sys, glob\n",
    "import numpy as np\n",
    "import pandas as pd\n",
    "import matplotlib.pyplot as plt\n",
    "import chess\n",
    "\n",
    "sys.path.append('../')\n",
    "\n",
    "# import custom modules\n",
    "import utils.Board2Matrix as B2M\n"
   ]
  },
  {
   "cell_type": "code",
   "execution_count": 2,
   "metadata": {},
   "outputs": [],
   "source": [
    "# create dict to map letters to numbers and vice versa (translate moves)\n",
    "letter2num = {letter: num for num, letter in enumerate('abcdefgh', 1)}\n",
    "num2letter = {num: letter for num, letter in enumerate('abcdefgh', 1)}"
   ]
  },
  {
   "cell_type": "markdown",
   "metadata": {},
   "source": [
    "# Theory\n",
    "- q: how do we represent a chess board as a matrix?\n",
    "- a: we can represent the board as an 8 x 8 x n matrix, where n is the number of pieces. each channel in the tensor represents the white & black positions of different pieces, with black pieces getting a value of -1, while white gets a value of 1\n"
   ]
  },
  {
   "cell_type": "markdown",
   "metadata": {},
   "source": [
    "# Data Preprocessing"
   ]
  },
  {
   "cell_type": "code",
   "execution_count": null,
   "metadata": {},
   "outputs": [],
   "source": []
  }
 ],
 "metadata": {
  "kernelspec": {
   "display_name": "my_env",
   "language": "python",
   "name": "python3"
  },
  "language_info": {
   "codemirror_mode": {
    "name": "ipython",
    "version": 3
   },
   "file_extension": ".py",
   "mimetype": "text/x-python",
   "name": "python",
   "nbconvert_exporter": "python",
   "pygments_lexer": "ipython3",
   "version": "3.9.6"
  },
  "orig_nbformat": 4
 },
 "nbformat": 4,
 "nbformat_minor": 2
}
